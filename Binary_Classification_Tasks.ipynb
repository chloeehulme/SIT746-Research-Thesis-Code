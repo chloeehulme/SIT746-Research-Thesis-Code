{
  "cells": [
    {
      "cell_type": "markdown",
      "metadata": {
        "id": "-I4GQmFR2HLd"
      },
      "source": [
        "# Binary Classification Task"
      ]
    },
    {
      "cell_type": "markdown",
      "metadata": {},
      "source": [
        "## Model A (CNN from TensorFlow Docs)"
      ]
    },
    {
      "cell_type": "code",
      "execution_count": null,
      "metadata": {
        "id": "q5KSFgD6a7Xt"
      },
      "outputs": [],
      "source": [
        "import tensorflow as tf\n",
        "from tensorflow.keras import models, layers\n",
        "from tensorflow.keras.preprocessing.image import ImageDataGenerator\n",
        "import matplotlib.pyplot as plt\n",
        "import numpy as np\n",
        "from sklearn.metrics import confusion_matrix, precision_score, recall_score\n",
        "import pandas as pd\n",
        "\n",
        "# Define directories for heat maps\n",
        "train_dir = './binary_test/training_set'\n",
        "test_dir = './binary_test/test_set'\n"
      ]
    },
    {
      "cell_type": "code",
      "execution_count": null,
      "metadata": {
        "id": "qffpcoEia9wW"
      },
      "outputs": [],
      "source": [
        "# Define parameters\n",
        "target_size = (224, 224)\n",
        "img_height = 224\n",
        "img_width = 224\n",
        "batch_size = 32\n",
        "validation_split = 0.2\n",
        "\n",
        "# Define ImageDataGenerator\n",
        "training_gen = ImageDataGenerator(validation_split=validation_split)\n",
        "test_gen = ImageDataGenerator()\n",
        "training_gen.rescale = 1. / 255.0\n",
        "test_gen.rescale = 1. /255.0"
      ]
    },
    {
      "cell_type": "code",
      "execution_count": null,
      "metadata": {
        "colab": {
          "base_uri": "https://localhost:8080/"
        },
        "id": "tSCQcXSzbANG",
        "outputId": "613087da-b9d4-4eb5-b463-32dafacd8ada"
      },
      "outputs": [],
      "source": [
        "# Pull images from directories and assign labels\n",
        "train_generator = training_gen.flow_from_directory(\n",
        "    train_dir,\n",
        "    target_size=target_size,\n",
        "    batch_size=batch_size,\n",
        "    class_mode='binary',\n",
        "    subset='training')\n",
        "\n",
        "validation_generator = training_gen.flow_from_directory(\n",
        "    train_dir,\n",
        "    target_size=target_size,\n",
        "    batch_size=batch_size,\n",
        "    class_mode='binary',\n",
        "    subset='validation')\n",
        "\n",
        "test_generator = test_gen.flow_from_directory(\n",
        "    test_dir,\n",
        "    target_size=target_size,\n",
        "    batch_size=batch_size,\n",
        "    class_mode='binary',\n",
        "    shuffle=False)"
      ]
    },
    {
      "cell_type": "code",
      "execution_count": null,
      "metadata": {
        "id": "EaxZ3QUpcanH"
      },
      "outputs": [],
      "source": [
        "# Model architecture (from Tensorflow documentation)\n",
        "model = models.Sequential()\n",
        "model.add(layers.Conv2D(32, (3, 3), activation='relu', input_shape=(img_height, img_width, 3)))\n",
        "model.add(layers.MaxPooling2D((2, 2)))\n",
        "\n",
        "model.add(layers.Conv2D(64, (3, 3), activation='relu'))\n",
        "model.add(layers.MaxPooling2D((2, 2)))\n",
        "\n",
        "model.add(layers.Conv2D(64, (3, 3), activation='relu'))\n",
        "\n",
        "# Flatten Layer\n",
        "model.add(layers.Flatten())\n",
        "\n",
        "# Dense Layers\n",
        "model.add(layers.Dense(64, activation='relu'))\n",
        "\n",
        "# Output Layer\n",
        "model.add(layers.Dense(1, activation='sigmoid'))"
      ]
    },
    {
      "cell_type": "code",
      "execution_count": null,
      "metadata": {
        "colab": {
          "base_uri": "https://localhost:8080/"
        },
        "id": "tRkYY4-2bQ28",
        "outputId": "e913adcc-fc2a-46ba-c9ee-fc12b79c6680"
      },
      "outputs": [],
      "source": [
        "# Compile the model\n",
        "model.compile(optimizer='adam',\n",
        "              loss='binary_crossentropy',\n",
        "              metrics=['accuracy'])"
      ]
    },
    {
      "cell_type": "code",
      "execution_count": null,
      "metadata": {
        "colab": {
          "base_uri": "https://localhost:8080/"
        },
        "id": "2nMLcdLEbTwG",
        "outputId": "11876d9a-e52f-43e8-c6a0-a9a09065584e"
      },
      "outputs": [],
      "source": [
        "# Training\n",
        "history = model.fit(train_generator, epochs=10,\n",
        "                    validation_data=validation_generator)"
      ]
    },
    {
      "cell_type": "markdown",
      "metadata": {
        "id": "TZcME6lzxm2G"
      },
      "source": [
        "### Evaluation"
      ]
    },
    {
      "cell_type": "code",
      "execution_count": null,
      "metadata": {
        "colab": {
          "base_uri": "https://localhost:8080/"
        },
        "id": "IWdHpoBnbYW6",
        "outputId": "d40bf7f8-fc22-4c0b-c4b0-955b5eb6f54a"
      },
      "outputs": [],
      "source": [
        "# Accuracy\n",
        "test_acc = model.evaluate(test_generator)\n",
        "print('Test accuracy:', test_acc)"
      ]
    },
    {
      "cell_type": "code",
      "execution_count": null,
      "metadata": {
        "colab": {
          "base_uri": "https://localhost:8080/"
        },
        "id": "3DFzRAG3F7gT",
        "outputId": "9d6bf7ce-5184-46c8-c73b-269dd3a327ef"
      },
      "outputs": [],
      "source": [
        "# Make Predictions\n",
        "predictions = model.predict(test_generator)"
      ]
    },
    {
      "cell_type": "code",
      "execution_count": null,
      "metadata": {
        "id": "fvuWvTmrOafx"
      },
      "outputs": [],
      "source": [
        "# Get expected labels\n",
        "true_labels = []\n",
        "\n",
        "for i in range(0,15):\n",
        "    true_labels.extend(np.array(test_generator[i][1]).astype(int))\n",
        "\n",
        "\n",
        "# Convert to binary predictions\n",
        "binary_predictions = np.where(predictions > 0.5, 1, 0).flatten()"
      ]
    },
    {
      "cell_type": "code",
      "execution_count": null,
      "metadata": {
        "colab": {
          "base_uri": "https://localhost:8080/"
        },
        "id": "8p95SpFgdwP7",
        "outputId": "0edb7699-7190-4374-99c5-45252b20bdba"
      },
      "outputs": [],
      "source": [
        "# Evaluation\n",
        "TN, FP, FN, TP = confusion_matrix(true_labels, binary_predictions).ravel()\n",
        "FPR = FP / (FP + TN)\n",
        "\n",
        "print(\"True Positives:\", TP)\n",
        "print(\"True Negatives:\", TN)\n",
        "print(\"False Positives:\", FP)\n",
        "print(\"False Negatives:\", FN)\n",
        "print(\"False Positive Rate:\", FPR)"
      ]
    },
    {
      "cell_type": "code",
      "execution_count": null,
      "metadata": {
        "colab": {
          "base_uri": "https://localhost:8080/",
          "height": 216
        },
        "id": "ti2vLOZD868s",
        "outputId": "e47166a8-bed0-4bbf-8e8e-96cc3ed7cb64"
      },
      "outputs": [],
      "source": [
        "precision = precision_score(true_labels, binary_predictions)\n",
        "recall = recall_score(true_labels, binary_predictions)\n",
        "\n",
        "# Proportion of true positive predictions out of all positive predictions\n",
        "print(\"Precision:\", precision)\n",
        "\n",
        "# Proportion of true positive predictions out of all actual positive cases\n",
        "print(\"Recall:\", recall)"
      ]
    },
    {
      "cell_type": "markdown",
      "metadata": {},
      "source": [
        "## Model B (ResNet50 Transfer Learning)"
      ]
    },
    {
      "cell_type": "code",
      "execution_count": null,
      "metadata": {},
      "outputs": [],
      "source": [
        "import tensorflow as tf\n",
        "from tensorflow.keras import models, layers\n",
        "from tensorflow.keras.preprocessing.image import ImageDataGenerator\n",
        "import matplotlib.pyplot as plt\n",
        "import numpy as np\n",
        "from sklearn.metrics import confusion_matrix, precision_score, recall_score\n",
        "from tensorflow.keras.applications import ResNet50\n",
        "import pandas as pd\n",
        "\n",
        "# Define directories for heat maps\n",
        "train_dir = './binary_test/training_set'\n",
        "test_dir = './binary_test/test_set'"
      ]
    },
    {
      "cell_type": "code",
      "execution_count": null,
      "metadata": {},
      "outputs": [],
      "source": [
        "# Define parameters\n",
        "target_size = (224, 224)\n",
        "img_height = 224\n",
        "img_width = 224\n",
        "batch_size = 32\n",
        "validation_split = 0.2\n",
        "\n",
        "# Define ImageDataGenerator\n",
        "training_gen = ImageDataGenerator(validation_split=validation_split)\n",
        "test_gen = ImageDataGenerator()\n",
        "training_gen.rescale = 1. / 255.0\n",
        "test_gen.rescale = 1. /255.0"
      ]
    },
    {
      "cell_type": "code",
      "execution_count": null,
      "metadata": {},
      "outputs": [],
      "source": [
        "# Pull images from directories and assign labels\n",
        "train_generator = training_gen.flow_from_directory(\n",
        "    train_dir,\n",
        "    target_size=target_size,\n",
        "    batch_size=batch_size,\n",
        "    class_mode='binary',\n",
        "    subset='training')\n",
        "\n",
        "validation_generator = training_gen.flow_from_directory(\n",
        "    train_dir,\n",
        "    target_size=target_size,\n",
        "    batch_size=batch_size,\n",
        "    class_mode='binary',\n",
        "    subset='validation')\n",
        "\n",
        "test_generator = test_gen.flow_from_directory(\n",
        "    test_dir,\n",
        "    target_size=target_size,\n",
        "    batch_size=batch_size,\n",
        "    class_mode='binary',\n",
        "    shuffle=False)"
      ]
    },
    {
      "cell_type": "code",
      "execution_count": null,
      "metadata": {},
      "outputs": [],
      "source": [
        "# Load the ResNet50 base model with imagenet weights\n",
        "base_model = ResNet50(weights='imagenet', include_top=False, input_shape=(img_height, img_width, 3))\n",
        "\n",
        "# Freeze the base model layers\n",
        "for layer in base_model.layers:\n",
        "    layer.trainable = False\n",
        "\n",
        "# Create a new model using ResNet50 base as a feature extractor\n",
        "inputs = tf.keras.Input(shape=(img_height, img_width, 3))\n",
        "x = base_model(inputs, training=False)\n",
        "x = tf.keras.layers.GlobalAveragePooling2D()(x)\n",
        "x = tf.keras.layers.Dense(64, activation='relu')(x)\n",
        "outputs = tf.keras.layers.Dense(1, activation='sigmoid')(x)\n",
        "model = tf.keras.Model(inputs, outputs)\n",
        "\n",
        "# Compile the model\n",
        "model.compile(optimizer='adam', loss='binary_crossentropy', metrics=['accuracy'])"
      ]
    },
    {
      "cell_type": "code",
      "execution_count": null,
      "metadata": {},
      "outputs": [],
      "source": [
        "# Training\n",
        "history = model.fit(train_generator, epochs=10, validation_data=validation_generator)"
      ]
    },
    {
      "cell_type": "markdown",
      "metadata": {},
      "source": [
        "### Evaluation"
      ]
    },
    {
      "cell_type": "code",
      "execution_count": null,
      "metadata": {},
      "outputs": [],
      "source": [
        "# Accuracy\n",
        "test_acc = model.evaluate(test_generator)\n",
        "print('Test accuracy:', test_acc)"
      ]
    },
    {
      "cell_type": "code",
      "execution_count": null,
      "metadata": {},
      "outputs": [],
      "source": [
        "# Make predictions\n",
        "predictions = model.predict(test_generator)"
      ]
    },
    {
      "cell_type": "code",
      "execution_count": null,
      "metadata": {},
      "outputs": [],
      "source": [
        "# Get expected labels\n",
        "true_labels = []\n",
        "\n",
        "for i in range(0,15):\n",
        "    true_labels.extend(np.array(test_generator[i][1]).astype(int))\n",
        "\n",
        "\n",
        "# Convert probabilities to binary predictions\n",
        "binary_predictions = np.where(predictions > 0.5, 1, 0).flatten()"
      ]
    },
    {
      "cell_type": "code",
      "execution_count": null,
      "metadata": {},
      "outputs": [],
      "source": [
        "# Calulate confusion matrix\n",
        "TN, FP, FN, TP = confusion_matrix(true_labels, binary_predictions).ravel()\n",
        "\n",
        "FPR = FP / (FP + TN)\n",
        "\n",
        "print(\"True Positives:\", TP)\n",
        "print(\"True Negatives:\", TN)\n",
        "print(\"False Positives:\", FP)\n",
        "print(\"False Negatives:\", FN)\n",
        "print(\"False Positive Rate:\", FPR)"
      ]
    },
    {
      "cell_type": "code",
      "execution_count": null,
      "metadata": {},
      "outputs": [],
      "source": [
        "precision = precision_score(true_labels, binary_predictions)\n",
        "recall = recall_score(true_labels, binary_predictions)\n",
        "\n",
        "# Proportion of true positive predictions out of all positive predictions\n",
        "print(\"Precision:\", precision)\n",
        "\n",
        "# Proportion of true positive predictions out of all actual positive cases\n",
        "print(\"Recall:\", recall)"
      ]
    }
  ],
  "metadata": {
    "colab": {
      "provenance": []
    },
    "kernelspec": {
      "display_name": "Python 3",
      "name": "python3"
    },
    "language_info": {
      "name": "python"
    }
  },
  "nbformat": 4,
  "nbformat_minor": 0
}
