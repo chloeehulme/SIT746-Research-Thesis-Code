{
  "cells": [
    {
      "cell_type": "markdown",
      "metadata": {
        "id": "1qy9HuJu6U13"
      },
      "source": [
        "# Comparative Analysis"
      ]
    },
    {
      "cell_type": "markdown",
      "metadata": {
        "id": "eVh7szu-3Vdb"
      },
      "source": [
        "## Data Pre-processing"
      ]
    },
    {
      "cell_type": "code",
      "execution_count": null,
      "metadata": {
        "id": "biUIavUC6e7a"
      },
      "outputs": [],
      "source": [
        "import tensorflow as tf\n",
        "import pandas as pd\n",
        "import numpy as np\n",
        "import matplotlib.pyplot as plt\n",
        "from tensorflow.keras import layers, models\n",
        "from tensorflow.keras.preprocessing.image import ImageDataGenerator\n",
        "from sklearn.metrics import confusion_matrix, precision_score, recall_score\n",
        "from sklearn import tree\n",
        "from sklearn.linear_model import LogisticRegression\n",
        "\n",
        "# Define dataframes for csvs\n",
        "nonattack_csv = pd.read_csv('./multiclass_test/comp_analysis/non-attack_random_sample.csv')\n",
        "dos_csv = pd.read_csv('./multiclass_test/comp_analysis/dos_output_OS.csv')\n",
        "\n",
        "# Create copies of dataframes\n",
        "nonattack_copy = nonattack_csv.copy().head(16000)\n",
        "dos_copy = dos_csv.copy()\n",
        "\n",
        "# Correct labels of dataframes\n",
        "nonattack_copy['Label'] = 0\n",
        "dos_copy['Label'] = 1"
      ]
    },
    {
      "cell_type": "code",
      "execution_count": null,
      "metadata": {
        "colab": {
          "base_uri": "https://localhost:8080/",
          "height": 360
        },
        "id": "Puh25ycI6qSR",
        "outputId": "8ed89834-e47e-4f39-d16a-573ae6a2dcfa"
      },
      "outputs": [],
      "source": [
        "# Drop last two columns (attack category and data label)\n",
        "nonattack_to_normal = nonattack_copy.drop(columns=['attack_cat', 'Label'])\n",
        "dos_to_normal = dos_copy.drop(columns=['attack_cat', 'Label'])\n",
        "\n",
        "# Normalise data\n",
        "nonattack_normal = nonattack_to_normal / 255\n",
        "dos_normal = dos_to_normal / 255\n",
        "\n",
        "# Add dropped columns back\n",
        "nonattack_normal = pd.concat([nonattack_normal, nonattack_copy[['attack_cat', 'Label']]], axis=1)\n",
        "dos_normal = pd.concat([dos_normal, dos_copy[['attack_cat', 'Label']]], axis=1)\n",
        "nonattack_normal.head()"
      ]
    },
    {
      "cell_type": "code",
      "execution_count": null,
      "metadata": {
        "id": "YVWN7vj06u9f"
      },
      "outputs": [],
      "source": [
        "# Train test split 70:30\n",
        "nonattack_train_split = nonattack_normal.head(11200)\n",
        "dos_train_split = dos_normal.head(11200)\n",
        "\n",
        "nonattack_test_split = nonattack_normal.tail(4800)\n",
        "dos_test_split = dos_normal.tail(4800)\n",
        "\n",
        "# Train set - validatin split 80:20, create X and y sets\n",
        "X_train = pd.concat([nonattack_train_split.head(8960), dos_train_split.head(8960)], axis=0)\n",
        "y_train = X_train[['Label']]\n",
        "X_train = X_train.drop(columns=['attack_cat', 'Label'])\n",
        "\n",
        "# Validation set - validation split 80:20, create X and y sets\n",
        "X_val = pd.concat([nonattack_train_split.tail(2240), dos_train_split.tail(2240)], axis=0)\n",
        "y_val = X_val[['Label']]\n",
        "X_val = X_val.drop(columns=['attack_cat', 'Label'])\n",
        "\n",
        "# Test set\n",
        "X_test = pd.concat([nonattack_test_split, dos_test_split], axis=0)\n",
        "y_test = X_test[['Label']]\n",
        "X_test = X_test.drop(columns=['attack_cat', 'Label'])"
      ]
    },
    {
      "cell_type": "markdown",
      "metadata": {
        "id": "x-Axmmk16Wbs"
      },
      "source": [
        "## 1D Convolutional Neural Network (CNN)"
      ]
    },
    {
      "cell_type": "code",
      "execution_count": null,
      "metadata": {
        "id": "XnKE-_Yh62K6"
      },
      "outputs": [],
      "source": [
        "# Model architecture for 1D numeric data (adapted from TensorFlow documentation)\n",
        "model = models.Sequential()\n",
        "model.add(layers.Conv1D(32, 3, activation='relu', input_shape=(None, 1)))\n",
        "model.add(layers.MaxPooling1D(2))\n",
        "\n",
        "model.add(layers.Conv1D(64, 3, activation='relu'))\n",
        "model.add(layers.MaxPooling1D(2))\n",
        "\n",
        "model.add(layers.Conv1D(64, 3, activation='relu'))\n",
        "\n",
        "# Dense Layer\n",
        "model.add(layers.Dense(64, activation='relu', input_shape=(None, 64)))\n",
        "\n",
        "# Output Layer\n",
        "model.add(layers.Dense(1, activation='sigmoid'))"
      ]
    },
    {
      "cell_type": "code",
      "execution_count": null,
      "metadata": {
        "colab": {
          "base_uri": "https://localhost:8080/"
        },
        "id": "3i7q0jRT64lW",
        "outputId": "781a7eb6-bece-4b41-8eca-67727604a7f6"
      },
      "outputs": [],
      "source": [
        "# Compile the model\n",
        "model.compile(optimizer='adam',\n",
        "              loss='binary_crossentropy',\n",
        "              metrics=['accuracy'])"
      ]
    },
    {
      "cell_type": "code",
      "execution_count": null,
      "metadata": {
        "colab": {
          "base_uri": "https://localhost:8080/"
        },
        "id": "r5BmRnA566ai",
        "outputId": "4cf84c12-5e81-4dc9-c10e-2e834d6dcd7e"
      },
      "outputs": [],
      "source": [
        "# Training\n",
        "history = model.fit(x=X_train, y=y_train, epochs=10, batch_size=32, validation_data=(X_val, y_val))"
      ]
    },
    {
      "cell_type": "code",
      "execution_count": null,
      "metadata": {
        "colab": {
          "base_uri": "https://localhost:8080/"
        },
        "id": "X5cNwlJG6857",
        "outputId": "627dade0-4957-4325-9b5d-389f523411b3"
      },
      "outputs": [],
      "source": [
        "# Accuracy\n",
        "test_acc = model.evaluate(X_test, y_test)\n",
        "print('Test accuracy:', test_acc)"
      ]
    },
    {
      "cell_type": "code",
      "execution_count": null,
      "metadata": {
        "colab": {
          "base_uri": "https://localhost:8080/"
        },
        "id": "TGkJaFCC6-7Z",
        "outputId": "d5f07afb-02c5-490f-f226-9541f8dc0767"
      },
      "outputs": [],
      "source": [
        "# Make Predictions\n",
        "predictions = model.predict(X_test)\n",
        "\n",
        "# Get final prediction\n",
        "last_predictions = predictions[:, -1, 0]\n",
        "\n",
        "# Convert to binary predictions\n",
        "binary_predictions = np.where(last_predictions > 0.5, 1, 0)"
      ]
    },
    {
      "cell_type": "code",
      "execution_count": null,
      "metadata": {
        "colab": {
          "base_uri": "https://localhost:8080/"
        },
        "id": "tPQBCY9G7IId",
        "outputId": "4693ae7e-0eb2-4c68-ffaf-908be526bcc1"
      },
      "outputs": [],
      "source": [
        "# Evaluation\n",
        "TN, FP, FN, TP = confusion_matrix(y_test.values, binary_predictions).ravel()\n",
        "FPR = FP / (FP + TN)\n",
        "\n",
        "print(\"True Positives:\", TP)\n",
        "print(\"True Negatives:\", TN)\n",
        "print(\"False Positives:\", FP)\n",
        "print(\"False Negatives:\", FN)\n",
        "print(\"False Positive Rate:\", FPR)\n",
        "\n",
        "precision = precision_score(y_test.values, binary_predictions)\n",
        "recall = recall_score(y_test.values, binary_predictions)\n",
        "\n",
        "# Proportion of true positive predictions out of all positive predictions\n",
        "print(\"Precision:\", precision)\n",
        "\n",
        "# Proportion of true positive predictions out of all actual positive cases\n",
        "print(\"Recall:\", recall)"
      ]
    },
    {
      "cell_type": "markdown",
      "metadata": {
        "id": "r4zG0wUN3cSq"
      },
      "source": [
        "## Support Vector Machine (SVM)"
      ]
    },
    {
      "cell_type": "code",
      "execution_count": null,
      "metadata": {
        "id": "__6DscvU3mDr"
      },
      "outputs": [],
      "source": [
        "# Model architecture\n",
        "svm = models.Sequential([\n",
        "    layers.Dense(1, input_shape=(X_train.shape[1],), activation='sigmoid')\n",
        "])"
      ]
    },
    {
      "cell_type": "code",
      "execution_count": null,
      "metadata": {
        "id": "USgys91n4SF7"
      },
      "outputs": [],
      "source": [
        "# Compile the model\n",
        "svm.compile(optimizer='sgd', loss='binary_crossentropy', metrics=['accuracy'])"
      ]
    },
    {
      "cell_type": "code",
      "execution_count": null,
      "metadata": {
        "colab": {
          "base_uri": "https://localhost:8080/"
        },
        "id": "Rkl3C8NH4UFW",
        "outputId": "58716ee8-3d7d-4cb8-e10f-cea83b1f3a89"
      },
      "outputs": [],
      "source": [
        "# Training\n",
        "svm.fit(X_train, y_train, epochs=100, validation_data=(X_val, y_val), verbose=1)"
      ]
    },
    {
      "cell_type": "code",
      "execution_count": null,
      "metadata": {
        "colab": {
          "base_uri": "https://localhost:8080/"
        },
        "id": "vJTDp02R4W1F",
        "outputId": "80b69cad-4fb1-47a2-ce9c-ffc789bc6847"
      },
      "outputs": [],
      "source": [
        "# Accuracy\n",
        "test_acc = svm.evaluate(X_test, y_test)\n",
        "print('Test accuracy:', test_acc)"
      ]
    },
    {
      "cell_type": "code",
      "execution_count": null,
      "metadata": {
        "colab": {
          "base_uri": "https://localhost:8080/"
        },
        "id": "uHijtkvX4en-",
        "outputId": "dbf71abd-81fa-4b32-cfd2-cd83b69cd56f"
      },
      "outputs": [],
      "source": [
        "# Make Predictions\n",
        "predictions_svm = svm.predict(X_test)\n",
        "\n",
        "# Convert to binary predictions\n",
        "binary_predictions_svm = np.where(predictions > 0.5, 1, 0)"
      ]
    },
    {
      "cell_type": "code",
      "execution_count": null,
      "metadata": {
        "colab": {
          "base_uri": "https://localhost:8080/"
        },
        "id": "BmAUs-QT4en_",
        "outputId": "b6330605-486b-49cc-ea33-be39bfcbe0d1"
      },
      "outputs": [],
      "source": [
        "# Evaluation\n",
        "TN, FP, FN, TP = confusion_matrix(y_test.values, binary_predictions_svm).ravel()\n",
        "FPR = FP / (FP + TN)\n",
        "\n",
        "print(\"True Positives:\", TP)\n",
        "print(\"True Negatives:\", TN)\n",
        "print(\"False Positives:\", FP)\n",
        "print(\"False Negatives:\", FN)\n",
        "print(\"False Positive Rate:\", FPR)\n",
        "\n",
        "precision = precision_score(y_test.values, binary_predictions_svm)\n",
        "recall = recall_score(y_test.values, binary_predictions_svm)\n",
        "\n",
        "# Proportion of true positive predictions out of all positive predictions\n",
        "print(\"Precision:\", precision)\n",
        "\n",
        "# Proportion of true positive predictions out of all actual positive cases\n",
        "print(\"Recall:\", recall)"
      ]
    },
    {
      "cell_type": "markdown",
      "metadata": {
        "id": "pIKsFUIq3joM"
      },
      "source": [
        "## Logistic Regression (LR)"
      ]
    },
    {
      "cell_type": "code",
      "execution_count": null,
      "metadata": {
        "id": "DDLoFG536fem"
      },
      "outputs": [],
      "source": [
        "# Model architecture\n",
        "lr = LogisticRegression()"
      ]
    },
    {
      "cell_type": "code",
      "execution_count": null,
      "metadata": {
        "colab": {
          "base_uri": "https://localhost:8080/",
          "height": 75
        },
        "id": "HVu6XLUN7YYG",
        "outputId": "4be76760-175c-40ca-d524-61c46fe6caeb"
      },
      "outputs": [],
      "source": [
        "# Training\n",
        "lr.fit(X_train, y_train.values.ravel())"
      ]
    },
    {
      "cell_type": "code",
      "execution_count": null,
      "metadata": {
        "id": "Ysoplk667yjL"
      },
      "outputs": [],
      "source": [
        "# Make Predictions\n",
        "predictions_lr = lr.predict(X_test)"
      ]
    },
    {
      "cell_type": "code",
      "execution_count": null,
      "metadata": {
        "colab": {
          "base_uri": "https://localhost:8080/"
        },
        "id": "f_xtHwsn7ncK",
        "outputId": "75d59d75-e7a7-48c3-91bb-2aaaf6955a95"
      },
      "outputs": [],
      "source": [
        "# Accuracy\n",
        "test_acc = sum(predictions_lr == y_test.values.ravel()) / len(y_test)\n",
        "print('Test accuracy:', test_acc)"
      ]
    },
    {
      "cell_type": "code",
      "execution_count": null,
      "metadata": {
        "colab": {
          "base_uri": "https://localhost:8080/"
        },
        "id": "m7sLYm_v7yjM",
        "outputId": "ede9f0b1-d0f7-4fbe-f0f8-347851613940"
      },
      "outputs": [],
      "source": [
        "# Evaluation\n",
        "TN, FP, FN, TP = confusion_matrix(y_test.values, predictions_lr).ravel()\n",
        "FPR = FP / (FP + TN)\n",
        "\n",
        "print(\"True Positives:\", TP)\n",
        "print(\"True Negatives:\", TN)\n",
        "print(\"False Positives:\", FP)\n",
        "print(\"False Negatives:\", FN)\n",
        "print(\"False Positive Rate:\", FPR)\n",
        "\n",
        "precision = precision_score(y_test.values, predictions_lr)\n",
        "recall = recall_score(y_test.values, predictions_lr)\n",
        "\n",
        "# Proportion of true positive predictions out of all positive predictions\n",
        "print(\"Precision:\", precision)\n",
        "\n",
        "# Proportion of true positive predictions out of all actual positive cases\n",
        "print(\"Recall:\", recall)"
      ]
    }
  ],
  "metadata": {
    "colab": {
      "collapsed_sections": [
        "eVh7szu-3Vdb",
        "x-Axmmk16Wbs",
        "KzfsSvkF6X9l",
        "r4zG0wUN3cSq",
        "pIKsFUIq3joM"
      ],
      "provenance": []
    },
    "kernelspec": {
      "display_name": "Python 3",
      "name": "python3"
    },
    "language_info": {
      "name": "python"
    }
  },
  "nbformat": 4,
  "nbformat_minor": 0
}
