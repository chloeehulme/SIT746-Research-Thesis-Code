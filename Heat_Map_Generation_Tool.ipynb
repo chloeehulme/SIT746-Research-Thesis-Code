{
  "cells": [
    {
      "cell_type": "markdown",
      "metadata": {
        "id": "RCuYVKj149pU"
      },
      "source": [
        "# Heat Map Generation Tool"
      ]
    },
    {
      "cell_type": "markdown",
      "metadata": {
        "id": "k81mkRtG5BZE"
      },
      "source": [
        "## Data Preparation"
      ]
    },
    {
      "cell_type": "markdown",
      "metadata": {
        "id": "u77axYM75BZF"
      },
      "source": [
        "### Importing data set"
      ]
    },
    {
      "cell_type": "code",
      "execution_count": null,
      "metadata": {
        "colab": {
          "base_uri": "https://localhost:8080/"
        },
        "id": "-MhnwVc3SeV1",
        "outputId": "2f67890e-32f7-4762-cc9e-687b084d710a"
      },
      "outputs": [
        {
          "name": "stdout",
          "output_type": "stream",
          "text": [
            "Mounted at /content/drive\n"
          ]
        }
      ],
      "source": [
        "from google.colab import drive\n",
        "drive.mount('/content/drive')"
      ]
    },
    {
      "cell_type": "code",
      "execution_count": null,
      "metadata": {
        "colab": {
          "base_uri": "https://localhost:8080/",
          "height": 273
        },
        "id": "avp7z-nJ5BZF",
        "outputId": "3416c39a-1c1e-4c60-b80f-867c69020569"
      },
      "outputs": [],
      "source": [
        "import matplotlib.pyplot as plt\n",
        "import pandas as pd\n",
        "import numpy as np\n",
        "from sklearn.preprocessing import LabelEncoder\n",
        "from sklearn.preprocessing import MinMaxScaler\n",
        "from imblearn.over_sampling import SMOTE\n",
        "\n",
        "column_names = ['srcip', 'sport', 'dstip', 'dsport', 'proto', 'state', 'dur', 'sbytes', 'dbytes', 'sttl', 'dttl',\n",
        "'sloss', 'dloss', 'service', 'Sload', 'Dload', 'Spkts', 'Dpkts', 'swin', 'dwin', 'stcpb', 'dtcpb', 'smeansz',\n",
        "'dmeansz', 'trans_depth', 'res_bdy_len', 'Sjit', 'Djit', 'Stime', 'Ltime', 'Sintpkt', 'Dintpkt', 'tcprtt',\n",
        "'synack', 'ackdat', 'is_sm_ips_ports', 'ct_state_ttl', 'ct_flw_http_mthd', 'is_ftp_login', 'ct_ftp_cmd',\n",
        "'ct_srv_src', 'ct_srv_dst', 'ct_dst_ltm', 'ct_src_ ltm', 'ct_src_dport_ltm', 'ct_dst_sport_ltm', 'ct_dst_src_ltm',\n",
        "'attack_cat', 'Label']\n",
        "\n",
        "df = pd.read_csv('/content/drive/My Drive/UNSW-NB15_4.csv', header=None, names=column_names)\n",
        "df_copy = df.copy()\n",
        "df_copy.head()"
      ]
    },
    {
      "cell_type": "markdown",
      "metadata": {
        "id": "Ei7cYfz-5BZF"
      },
      "source": [
        "### Encode non-numeric values"
      ]
    },
    {
      "cell_type": "code",
      "execution_count": null,
      "metadata": {
        "id": "JZIPMR2t5BZQ"
      },
      "outputs": [],
      "source": [
        "# Select all non-numeric columns other than attack category label\n",
        "non_numeric_cols = df_copy.select_dtypes(exclude=[int, float]).drop(columns=['attack_cat'])\n",
        "\n",
        "df_copy['sport'] = df_copy['sport'].astype(str)\n",
        "df_copy['dsport'] = df_copy['dsport'].astype(str)\n",
        "df_copy['ct_ftp_cmd'] = df_copy['ct_ftp_cmd'].astype(str)"
      ]
    },
    {
      "cell_type": "code",
      "execution_count": null,
      "metadata": {
        "colab": {
          "base_uri": "https://localhost:8080/",
          "height": 398
        },
        "id": "S8DOWk_b5BZR",
        "outputId": "c0955468-1401-42f8-e74d-52368d5e099c"
      },
      "outputs": [],
      "source": [
        "# Encode selected non-numeric columns\n",
        "label_encoders = {}\n",
        "for col in non_numeric_cols:\n",
        "    label_encoders[col] = LabelEncoder()\n",
        "    print(col)\n",
        "    df_copy[col] = label_encoders[col].fit_transform(df_copy[col])\n",
        "\n",
        "df_copy.head()"
      ]
    },
    {
      "cell_type": "markdown",
      "metadata": {
        "id": "QtqdJ6CO5a2U"
      },
      "source": [
        "### Normalise Data"
      ]
    },
    {
      "cell_type": "code",
      "execution_count": null,
      "metadata": {
        "colab": {
          "base_uri": "https://localhost:8080/",
          "height": 273
        },
        "id": "hJ8wntzV5ZRe",
        "outputId": "b6fe61b1-e5e0-4939-cd49-60a0b75b9f59"
      },
      "outputs": [],
      "source": [
        "scaler = MinMaxScaler()\n",
        "\n",
        "# Drop last two columns (attack category and data label)\n",
        "to_normalise = df_copy.drop(columns=['attack_cat', 'Label'])\n",
        "\n",
        "# Normalise data\n",
        "df_normal = pd.DataFrame(scaler.fit_transform(to_normalise), columns=to_normalise.columns) * 255\n",
        "df_normal = df_normal.fillna(0)\n",
        "\n",
        "# Add dropped columns back\n",
        "df_normal = pd.concat([df_normal, df_copy[['attack_cat', 'Label']]], axis=1)\n",
        "df_normal.head()"
      ]
    },
    {
      "cell_type": "markdown",
      "metadata": {
        "id": "kuqK24e6-q5N"
      },
      "source": [
        "### Split Data"
      ]
    },
    {
      "cell_type": "code",
      "execution_count": null,
      "metadata": {
        "id": "tg55LXb5-twP"
      },
      "outputs": [],
      "source": [
        "# Split dataset by category\n",
        "df_nonattack = df_normal[df_normal['Label'] == 0]\n",
        "df_fuzzers = df_normal[df_normal['attack_cat'].str.strip() == 'Fuzzers']\n",
        "df_analysis = df_normal[df_normal['attack_cat'].str.strip() == 'Analysis']\n",
        "df_backdoors = df_normal[df_normal['attack_cat'].str.strip() == 'Backdoor']\n",
        "df_dos = df_normal[df_normal['attack_cat'].str.strip() == 'DoS']\n",
        "df_exploits = df_normal[df_normal['attack_cat'].str.strip() == 'Exploits']\n",
        "df_generic = df_normal[df_normal['attack_cat'].str.strip() == 'Generic']\n",
        "df_recon = df_normal[df_normal['attack_cat'].str.strip() == 'Reconnaissance']\n",
        "df_shellcode = df_normal[df_normal['attack_cat'].str.strip() == 'Shellcode']\n",
        "df_worms = df_normal[df_normal['attack_cat'].str.strip() == 'Worms']"
      ]
    },
    {
      "cell_type": "markdown",
      "metadata": {
        "id": "ab-8CQOhBj5b"
      },
      "source": [
        "### Oversampling using SMOTE (Analysis, Backdoors, Shellcode)"
      ]
    },
    {
      "cell_type": "code",
      "execution_count": null,
      "metadata": {
        "colab": {
          "base_uri": "https://localhost:8080/"
        },
        "id": "b4_dc357HNhB",
        "outputId": "a372686c-36f0-435d-c45b-a01d6fc6880b"
      },
      "outputs": [],
      "source": [
        "# Find proportion of total samples contained in current CSV\n",
        "proportion_analysis = (len(df_analysis) / (132 * 20))\n",
        "proportion_backdoors = (len(df_backdoors) / (120 * 20))\n",
        "proportion_shellcode = (len(df_shellcode) / (74 * 20))\n",
        "\n",
        "# Calculate number of samples to be generated from current CSV\n",
        "num_samples_analysis = 800 * 20 * proportion_analysis\n",
        "num_samples_backdoors = 800 * 20 * proportion_backdoors\n",
        "num_samples_shellcode = 800 * 20 * proportion_shellcode\n",
        "\n",
        "OS_size_anaylsis = int(num_samples_analysis) + 1\n",
        "OS_size_backdoors = int(num_samples_backdoors) + 1\n",
        "OS_size_shellcode = int(num_samples_shellcode) + 1"
      ]
    },
    {
      "cell_type": "code",
      "execution_count": null,
      "metadata": {
        "id": "6dFuEK2vBh7H"
      },
      "outputs": [],
      "source": [
        "# Concatenate non-attack class for SMOTE\n",
        "df_analysis_SMOTE = pd.concat([df_nonattack, df_analysis], ignore_index=True)\n",
        "df_backdoors_SMOTE = pd.concat([df_nonattack, df_backdoors], ignore_index=True)\n",
        "df_shellcode_SMOTE = pd.concat([df_nonattack, df_shellcode], ignore_index=True)\n",
        "\n",
        "# Separate features and target for each class\n",
        "df_analysis_y = df_analysis_SMOTE[['attack_cat', 'Label']]\n",
        "df_backdoors_y = df_backdoors_SMOTE[['attack_cat', 'Label']]\n",
        "df_shellcode_y = df_shellcode_SMOTE[['attack_cat', 'Label']]\n",
        "\n",
        "df_analysis_X = df_analysis_SMOTE.drop(columns=['attack_cat', 'Label'])\n",
        "df_backdoors_X = df_backdoors_SMOTE.drop(columns=['attack_cat', 'Label'])\n",
        "df_shellcode_X = df_shellcode_SMOTE.drop(columns=['attack_cat', 'Label'])\n",
        "\n",
        "# Convert target columns to single column for SMOTE\n",
        "y_analysis = df_analysis_y['Label']\n",
        "y_backdoors = df_backdoors_y['Label']\n",
        "y_shellcode = df_shellcode_y['Label']"
      ]
    },
    {
      "cell_type": "code",
      "execution_count": null,
      "metadata": {
        "id": "kZsrXu-kJPWM"
      },
      "outputs": [],
      "source": [
        "# Apply SMOTE with specified number of samples for each class\n",
        "smote_analysis = SMOTE(sampling_strategy={1: OS_size_anaylsis}, random_state=42)\n",
        "X_analysis_resampled, y_analysis_resampled = smote_analysis.fit_resample(df_analysis_X, y_analysis)\n",
        "\n",
        "smote_backdoors = SMOTE(sampling_strategy={1: OS_size_backdoors}, random_state=42)\n",
        "X_backdoors_resampled, y_backdoors_resampled = smote_backdoors.fit_resample(df_backdoors_X, y_backdoors)\n",
        "\n",
        "smote_shellcode = SMOTE(sampling_strategy={1: OS_size_shellcode}, random_state=42)\n",
        "X_shellcode_resampled, y_shellcode_resampled = smote_shellcode.fit_resample(df_shellcode_X, y_shellcode)"
      ]
    },
    {
      "cell_type": "code",
      "execution_count": null,
      "metadata": {
        "id": "NlwnVJmLJQM3"
      },
      "outputs": [],
      "source": [
        "# Combine resampled data back into DataFrames\n",
        "df_analysis_OS = pd.DataFrame(X_analysis_resampled, columns=df_analysis_X.columns)\n",
        "df_analysis_OS['attack_cat'] = df_analysis_y['attack_cat'].iloc[0]\n",
        "df_analysis_OS['Label'] = y_analysis_resampled\n",
        "df_analysis_OS = df_analysis_OS[df_analysis_OS['Label'] == 1]\n",
        "\n",
        "df_backdoors_OS = pd.DataFrame(X_backdoors_resampled, columns=df_backdoors_X.columns)\n",
        "df_backdoors_OS['attack_cat'] = df_backdoors_y['attack_cat'].iloc[0]\n",
        "df_backdoors_OS['Label'] = y_backdoors_resampled\n",
        "df_backdoors_OS = df_backdoors_OS[df_backdoors_OS['Label'] == 1]\n",
        "\n",
        "df_shellcode_OS = pd.DataFrame(X_shellcode_resampled, columns=df_shellcode_X.columns)\n",
        "df_shellcode_OS['attack_cat'] = df_shellcode_y['attack_cat'].iloc[0]\n",
        "df_shellcode_OS['Label'] = y_shellcode_resampled\n",
        "df_shellcode_OS = df_shellcode_OS[df_shellcode_OS['Label'] == 1]"
      ]
    },
    {
      "cell_type": "markdown",
      "metadata": {
        "id": "9pcoCJavV9OJ"
      },
      "source": [
        "### Generate random sample of non-attack from entire dataset"
      ]
    },
    {
      "cell_type": "markdown",
      "metadata": {
        "id": "2lfiqJ4OWgEt"
      },
      "source": [
        "#### Generate all csv subsets before proceeding!!"
      ]
    },
    {
      "cell_type": "code",
      "execution_count": null,
      "metadata": {
        "id": "B28RTVxwT0Bq"
      },
      "outputs": [],
      "source": [
        "# Need all 4 outputs generated to proceed !!!\n",
        "df_nonattack.to_csv('non_attack_output_csv4.csv', index=False)"
      ]
    },
    {
      "cell_type": "code",
      "execution_count": null,
      "metadata": {
        "id": "pihiPuSOWFQj"
      },
      "outputs": [],
      "source": [
        "# Read in non-attack CSVs\n",
        "na_1 = pd.read_csv('non_attack_output_csv1.csv')\n",
        "na_2 = pd.read_csv('non_attack_output_csv2.csv')\n",
        "na_3 = pd.read_csv('non_attack_output_csv3.csv')\n",
        "na_4 = pd.read_csv('non_attack_output_csv4.csv')"
      ]
    },
    {
      "cell_type": "code",
      "execution_count": null,
      "metadata": {
        "id": "h6hLS8ZuWPuh"
      },
      "outputs": [],
      "source": [
        "# Concatenate and randomly sample\n",
        "combined_na_1 = pd.concat([na_1, na_2], ignore_index=True)\n",
        "combined_na_2 = pd.concat([na_3, na_4], ignore_index=True)\n",
        "final_na = pd.concat([combined_na_1, combined_na_2], ignore_index=True)\n",
        "\n",
        "sampled_na = final_na.sample(n=20000, random_state=42)"
      ]
    },
    {
      "cell_type": "code",
      "execution_count": null,
      "metadata": {
        "id": "996SM28UWYJ3"
      },
      "outputs": [],
      "source": [
        "# Export for numeric comparison\n",
        "sampled_na.to_csv('/content/drive/My Drive/RTP_figs/numeric_datasets/non-attack_random_sample.csv', index=False)"
      ]
    },
    {
      "cell_type": "markdown",
      "metadata": {
        "id": "bWaA5EeV4zDo"
      },
      "source": [
        "### Export Numeric Data for Comparative Analysis"
      ]
    },
    {
      "cell_type": "code",
      "execution_count": null,
      "metadata": {
        "id": "6CbN-gQN0cAu"
      },
      "outputs": [],
      "source": [
        "# Export data\n",
        "subset_nonattack = df_nonattack.head(16000)\n",
        "\n",
        "subset_nonattack.to_csv('nonattack_output_OS.csv', index=False)\n",
        "df_dos.to_csv('dos_output4.csv', index=False)\n",
        "df_analysis_OS.to_csv('analysis_output4.csv', index=False)\n",
        "df_backdoors_OS.to_csv('backdoors_output3.csv', index=False)\n",
        "df_shellcode_OS.to_csv('shellcode_output4.csv', index=False)\n",
        "df_fuzzers.to_csv('fuzzers_output4.csv', index=False)\n",
        "df_exploits.to_csv('exploits_output4.csv', index=False)\n",
        "df_generic.to_csv('generic_output4.csv', index=False)\n",
        "df_recon.to_csv('recon_output4.csv', index=False)"
      ]
    },
    {
      "cell_type": "markdown",
      "metadata": {
        "id": "aTL7n6ESv2t3"
      },
      "source": [
        "#### Generate all subsets before proceeding"
      ]
    },
    {
      "cell_type": "code",
      "execution_count": null,
      "metadata": {
        "id": "cx5EfeeW46BA"
      },
      "outputs": [],
      "source": [
        "# Read in attack CSVs\n",
        "dos_1 = pd.read_csv('dos_output1.csv')\n",
        "dos_2 = pd.read_csv('dos_output2.csv')\n",
        "dos_3 = pd.read_csv('dos_output3.csv')\n",
        "dos_4 = pd.read_csv('dos_output4.csv')\n",
        "\n",
        "analysis_1 = pd.read_csv('analysis_output1.csv')\n",
        "analysis_2 = pd.read_csv('analysis_output2.csv')\n",
        "analysis_3 = pd.read_csv('analysis_output3.csv')\n",
        "analysis_4 = pd.read_csv('analysis_output4.csv')\n",
        "\n",
        "backdoors_1 = pd.read_csv('backdoors_output1.csv')\n",
        "backdoors_2 = pd.read_csv('backdoors_output2.csv')\n",
        "backdoors_3 = pd.read_csv('backdoors_output3.csv')\n",
        "\n",
        "shellcode_1 = pd.read_csv('shellcode_output1.csv')\n",
        "shellcode_2 = pd.read_csv('shellcode_output2.csv')\n",
        "shellcode_3 = pd.read_csv('shellcode_output3.csv')\n",
        "shellcode_4 = pd.read_csv('shellcode_output4.csv')\n",
        "\n",
        "exploits_1 = pd.read_csv('exploits_output1.csv')\n",
        "exploits_2 = pd.read_csv('exploits_output2.csv')\n",
        "exploits_3 = pd.read_csv('exploits_output3.csv')\n",
        "exploits_4 = pd.read_csv('exploits_output4.csv')\n",
        "\n",
        "generic_1 = pd.read_csv('generic_output1.csv')\n",
        "generic_2 = pd.read_csv('generic_output2.csv')\n",
        "generic_3 = pd.read_csv('generic_output3.csv')\n",
        "generic_4 = pd.read_csv('generic_output4.csv')\n",
        "\n",
        "recon_1 = pd.read_csv('recon_output1.csv')\n",
        "recon_2 = pd.read_csv('recon_output2.csv')\n",
        "recon_3 = pd.read_csv('recon_output3.csv')\n",
        "recon_4 = pd.read_csv('recon_output4.csv')\n",
        "\n",
        "fuzzers_1 = pd.read_csv('fuzzers_output1.csv')\n",
        "fuzzers_2 = pd.read_csv('fuzzers_output2.csv')\n",
        "fuzzers_3 = pd.read_csv('fuzzers_output3.csv')\n",
        "fuzzers_4 = pd.read_csv('fuzzers_output4.csv')"
      ]
    },
    {
      "cell_type": "code",
      "execution_count": null,
      "metadata": {
        "id": "pJEk37SVBdKv"
      },
      "outputs": [],
      "source": [
        "# Concatenate\n",
        "combined_dos_1 = pd.concat([dos_1, dos_2], ignore_index=True)\n",
        "combined_dos_2 = pd.concat([dos_3, dos_4], ignore_index=True)\n",
        "final_dos = pd.concat([combined_dos_1, combined_dos_2], ignore_index=True)\n",
        "\n",
        "combined_analysis_1 = pd.concat([analysis_1, analysis_2], ignore_index=True)\n",
        "combined_analysis_2 = pd.concat([analysis_3, analysis_4], ignore_index=True)\n",
        "final_analysis = pd.concat([combined_analysis_1, combined_analysis_2], ignore_index=True)\n",
        "\n",
        "combined_backdoors_1 = pd.concat([backdoors_1, backdoors_2], ignore_index=True)\n",
        "final_backdoors = pd.concat([combined_backdoors_1, backdoors_3], ignore_index=True)\n",
        "\n",
        "combined_shellcode_1 = pd.concat([shellcode_1, shellcode_2], ignore_index=True)\n",
        "combined_shellcode_2 = pd.concat([shellcode_3, shellcode_4], ignore_index=True)\n",
        "final_shellcode = pd.concat([combined_shellcode_1, combined_shellcode_2], ignore_index=True)\n",
        "\n",
        "combined_exploits_1 = pd.concat([exploits_1, exploits_2], ignore_index=True)\n",
        "combined_exploits_2 = pd.concat([exploits_3, exploits_4], ignore_index=True)\n",
        "final_exploits = pd.concat([combined_exploits_1, combined_exploits_2], ignore_index=True)\n",
        "\n",
        "combined_generic_1 = pd.concat([generic_1, generic_2], ignore_index=True)\n",
        "combined_generic_2 = pd.concat([generic_3, generic_4], ignore_index=True)\n",
        "final_generic = pd.concat([combined_generic_1, combined_generic_2], ignore_index=True)\n",
        "\n",
        "combined_recon_1 = pd.concat([recon_1, recon_2], ignore_index=True)\n",
        "combined_recon_2 = pd.concat([recon_3, recon_4], ignore_index=True)\n",
        "final_recon = pd.concat([combined_recon_1, combined_recon_2], ignore_index=True)\n",
        "\n",
        "combined_fuzzers_1 = pd.concat([fuzzers_1, fuzzers_2], ignore_index=True)\n",
        "combined_fuzzers_2 = pd.concat([fuzzers_3, fuzzers_4], ignore_index=True)\n",
        "final_fuzzers = pd.concat([combined_fuzzers_1, combined_fuzzers_2], ignore_index=True)"
      ]
    },
    {
      "cell_type": "code",
      "execution_count": null,
      "metadata": {
        "id": "6g6lA3uUBjNp"
      },
      "outputs": [],
      "source": [
        "# Export selection\n",
        "final_dos.head(16000).to_csv('/content/drive/My Drive/RTP_figs/numeric_datasets/dos_output_OS.csv', index=False)\n",
        "final_analysis.head(16000).to_csv('/content/drive/My Drive/RTP_figs/numeric_datasets/analysis_output_OS.csv', index=False)\n",
        "final_backdoors.head(16000).to_csv('/content/drive/My Drive/RTP_figs/numeric_datasets/backdoors_output_OS.csv', index=False)\n",
        "final_shellcode.head(16000).to_csv('/content/drive/My Drive/RTP_figs/numeric_datasets/shellcode_output_OS.csv', index=False)\n",
        "final_exploits.head(16000).to_csv('/content/drive/My Drive/RTP_figs/numeric_datasets/exploits_output_OS.csv', index=False)\n",
        "final_generic.head(16000).to_csv('/content/drive/My Drive/RTP_figs/numeric_datasets/generic_output_OS.csv', index=False)\n",
        "final_recon.to_csv('/content/drive/My Drive/RTP_figs/numeric_datasets/recon_output_OS.csv', index=False)\n",
        "final_fuzzers.head(16000).to_csv('/content/drive/My Drive/RTP_figs/numeric_datasets/fuzzers_output_OS.csv', index=False)\n",
        "subset_nonattack.to_csv('/content/drive/My Drive/RTP_figs/numeric_datasets/nonattack_output_OS.csv', index=False)"
      ]
    },
    {
      "cell_type": "markdown",
      "metadata": {
        "id": "EMVYWDod-F_a"
      },
      "source": [
        "## Generate Heat Maps"
      ]
    },
    {
      "cell_type": "markdown",
      "metadata": {
        "id": "31B8WGW2VcSD"
      },
      "source": [
        "### Analysis"
      ]
    },
    {
      "cell_type": "code",
      "execution_count": null,
      "metadata": {
        "id": "nJbQ2K-5VcSE"
      },
      "outputs": [],
      "source": [
        "# Calculate the total number of iterations needed\n",
        "num_iterations = len(df_analysis_OS) // 20\n",
        "startNumber = 608\n",
        "\n",
        "for i in range(num_iterations):\n",
        "    # Extract 20 rows for the current iteration\n",
        "    start_index = i * 20\n",
        "    end_index = (i + 1) * 20\n",
        "    image_array = df_analysis_OS.iloc[start_index:end_index, :47].values.astype(np.uint8)\n",
        "\n",
        "    # Format the iteration number with leading zeros\n",
        "    file_number = str(startNumber + i).zfill(4)\n",
        "\n",
        "    # Plot and save the image\n",
        "    plt.figure(figsize=(5, 5))\n",
        "    plt.imshow(image_array, cmap='jet', aspect='auto')\n",
        "    plt.axis('off')\n",
        "    plt.savefig(f'/content/drive/My Drive/RTP_figs/final/Analysis/Analysis{file_number}.png')\n",
        "    plt.close()"
      ]
    },
    {
      "cell_type": "markdown",
      "metadata": {
        "id": "r4h5-bXaVeSb"
      },
      "source": [
        "### Backdoors"
      ]
    },
    {
      "cell_type": "code",
      "execution_count": null,
      "metadata": {
        "id": "OKXfC4GUVeSb"
      },
      "outputs": [],
      "source": [
        "# Calculate the total number of iterations needed\n",
        "num_iterations = len(df_backdoors_OS) // 20\n",
        "startNumber = 377\n",
        "\n",
        "for i in range(num_iterations):\n",
        "    # Extract 20 rows for the current iteration\n",
        "    start_index = i * 20\n",
        "    end_index = (i + 1) * 20\n",
        "    image_array = df_backdoors_OS.iloc[start_index:end_index, :47].values.astype(np.uint8)\n",
        "\n",
        "    # Format the iteration number with leading zeros\n",
        "    file_number = str(startNumber + i).zfill(4)\n",
        "\n",
        "    # Plot and save the image\n",
        "    plt.figure(figsize=(5, 5))\n",
        "    plt.imshow(image_array, cmap='jet', aspect='auto')\n",
        "    plt.axis('off')\n",
        "    plt.savefig(f'/content/drive/My Drive/RTP_figs/final/Backdoors/Backdoors{file_number}.png')\n",
        "    plt.close()"
      ]
    },
    {
      "cell_type": "markdown",
      "metadata": {
        "id": "ckx4gbsoVvhr"
      },
      "source": [
        "### Shell code"
      ]
    },
    {
      "cell_type": "code",
      "execution_count": null,
      "metadata": {
        "id": "U0L-nIe8Vvhs"
      },
      "outputs": [],
      "source": [
        "# Calculate the total number of iterations needed\n",
        "num_iterations = len(df_shellcode_OS) // 20\n",
        "startNumber = 616\n",
        "\n",
        "for i in range(num_iterations):\n",
        "    # Extract 20 rows for the current iteration\n",
        "    start_index = i * 20\n",
        "    end_index = (i + 1) * 20\n",
        "    image_array = df_shellcode_OS.iloc[start_index:end_index, :47].values.astype(np.uint8)\n",
        "\n",
        "    # Format the iteration number with leading zeros\n",
        "    file_number = str(startNumber + i).zfill(4)\n",
        "\n",
        "    # Plot and save the image\n",
        "    plt.figure(figsize=(5, 5))\n",
        "    plt.imshow(image_array, cmap='jet', aspect='auto')\n",
        "    plt.axis('off')\n",
        "    plt.savefig(f'/content/drive/My Drive/RTP_figs/final/Shellcode/Shellcode{file_number}.png')\n",
        "    plt.close()"
      ]
    },
    {
      "cell_type": "markdown",
      "metadata": {
        "id": "sUTlV5WKXTL2"
      },
      "source": [
        "### Non-attack\n",
        "\n"
      ]
    },
    {
      "cell_type": "code",
      "execution_count": null,
      "metadata": {
        "id": "kbCWqlhpXTL8"
      },
      "outputs": [],
      "source": [
        "# Calculate the total number of iterations needed\n",
        "num_iterations = len(sampled_na) // 20\n",
        "startNumber = 1\n",
        "\n",
        "for i in range(num_iterations):\n",
        "    # Extract 20 rows for the current iteration\n",
        "    start_index = i * 20\n",
        "    end_index = (i + 1) * 20\n",
        "    image_array = sampled_na.iloc[start_index:end_index, :47].values.astype(np.uint8)\n",
        "\n",
        "    # Format the iteration number with leading zeros\n",
        "    file_number = str(startNumber + i).zfill(4)\n",
        "\n",
        "    # Plot and save the image\n",
        "    plt.figure(figsize=(5, 5))\n",
        "    plt.imshow(image_array, cmap='jet', aspect='auto')\n",
        "    plt.axis('off')\n",
        "    plt.savefig(f'/content/drive/My Drive/RTP_figs/final/Nonattack_sampled/non_attack_sampled_{file_number}.png')\n",
        "    plt.close()"
      ]
    },
    {
      "cell_type": "markdown",
      "metadata": {
        "id": "rlOE-owUAJI9"
      },
      "source": [
        "### Denial of Service (DoS)"
      ]
    },
    {
      "cell_type": "code",
      "execution_count": null,
      "metadata": {
        "id": "NE-hdKyQqDvl"
      },
      "outputs": [],
      "source": [
        "# Calculate total number of iterations in df\n",
        "num_iterations = len(df_dos) // 20\n",
        "startNumber = 572\n",
        "\n",
        "for i in range(num_iterations):\n",
        "    # Extract 20 rows for the current iteration\n",
        "    start_index = i * 20\n",
        "    end_index = (i + 1) * 20\n",
        "    image_array = df_dos.iloc[start_index:end_index, :47].values.astype(np.uint8)\n",
        "\n",
        "    # Format the file number\n",
        "    file_number = str(startNumber + i).zfill(4)\n",
        "\n",
        "    # Plot and save the image\n",
        "    plt.figure(figsize=(5, 5))\n",
        "    plt.imshow(image_array, cmap='jet', aspect='auto')\n",
        "    plt.axis('off')\n",
        "    plt.savefig(f'/content/drive/My Drive/RTP_figs/final/DoS/DoS{file_number}.png')\n",
        "    plt.close()"
      ]
    },
    {
      "cell_type": "markdown",
      "metadata": {
        "id": "5WieZnQ2VUHo"
      },
      "source": [
        "### Fuzzers"
      ]
    },
    {
      "cell_type": "code",
      "execution_count": null,
      "metadata": {
        "id": "jLDxYa2zVVjC"
      },
      "outputs": [],
      "source": [
        "# Calculate the total number of iterations needed\n",
        "num_iterations = len(df_fuzzers) // 20\n",
        "startNumber = 486\n",
        "\n",
        "for i in range(num_iterations):\n",
        "    # Extract 20 rows for the current iteration\n",
        "    start_index = i * 20\n",
        "    end_index = (i + 1) * 20\n",
        "    image_array = df_fuzzers.iloc[start_index:end_index, :47].values.astype(np.uint8)\n",
        "\n",
        "    # Format the iteration number with leading zeros\n",
        "    file_number = str(startNumber + i).zfill(4)\n",
        "\n",
        "    # Plot and save the image\n",
        "    plt.figure(figsize=(5, 5))\n",
        "    plt.imshow(image_array, cmap='jet', aspect='auto')\n",
        "    plt.axis('off')\n",
        "    plt.savefig(f'/content/drive/My Drive/RTP_figs/final/Fuzzers/Fuzzers{file_number}.png')\n",
        "    plt.close()"
      ]
    },
    {
      "cell_type": "markdown",
      "metadata": {
        "id": "ZxkQjOMvVivt"
      },
      "source": [
        "### Exploits"
      ]
    },
    {
      "cell_type": "code",
      "execution_count": null,
      "metadata": {
        "id": "03JK1G_fVivu"
      },
      "outputs": [],
      "source": [
        "# Calculate the total number of iterations needed\n",
        "num_iterations = len(df_exploits) // 20\n",
        "startNumber = 271\n",
        "\n",
        "for i in range(num_iterations):\n",
        "    # Extract 20 rows for the current iteration\n",
        "    start_index = i * 20\n",
        "    end_index = (i + 1) * 20\n",
        "    image_array = df_exploits.iloc[start_index:end_index, :47].values.astype(np.uint8)\n",
        "\n",
        "    # Format the iteration number with leading zeros\n",
        "    file_number = str(startNumber + i).zfill(4)\n",
        "\n",
        "    # Plot and save the image\n",
        "    plt.figure(figsize=(5, 5))\n",
        "    plt.imshow(image_array, cmap='jet', aspect='auto')\n",
        "    plt.axis('off')\n",
        "    plt.savefig(f'/content/drive/My Drive/RTP_figs/final/Exploits/Exploits{file_number}.png')\n",
        "    plt.close()"
      ]
    },
    {
      "cell_type": "markdown",
      "metadata": {
        "id": "Pa5nsBsMVlXo"
      },
      "source": [
        "### Generic"
      ]
    },
    {
      "cell_type": "code",
      "execution_count": null,
      "metadata": {
        "colab": {
          "base_uri": "https://localhost:8080/",
          "height": 752
        },
        "id": "AK-dTvixVlXo",
        "outputId": "397215a2-a9e7-4bfb-88bc-0aaf07f15306"
      },
      "outputs": [],
      "source": [
        "# Calculate the total number of iterations needed\n",
        "num_iterations = len(df_generic) // 20\n",
        "startNumber = 377\n",
        "\n",
        "for i in range(num_iterations):\n",
        "    # Extract 20 rows for the current iteration\n",
        "    start_index = i * 20\n",
        "    end_index = (i + 1) * 20\n",
        "    image_array = df_generic.iloc[start_index:end_index, :47].values.astype(np.uint8)\n",
        "\n",
        "    # Format the iteration number with leading zeros\n",
        "    file_number = str(startNumber + i).zfill(4)\n",
        "\n",
        "    # Plot and save the image\n",
        "    plt.figure(figsize=(5, 5))\n",
        "    plt.imshow(image_array, cmap='jet', aspect='auto')\n",
        "    plt.axis('off')\n",
        "    plt.savefig(f'/content/drive/My Drive/RTP_figs/final/Generic/Generic{file_number}.png')\n",
        "    plt.close()"
      ]
    },
    {
      "cell_type": "markdown",
      "metadata": {
        "id": "jBJz4BkGVoNO"
      },
      "source": [
        "### Reconnaissance"
      ]
    },
    {
      "cell_type": "code",
      "execution_count": null,
      "metadata": {
        "id": "WZ3zdatvVoNO"
      },
      "outputs": [],
      "source": [
        "# Calculate the total number of iterations needed\n",
        "num_iterations = len(df_recon) // 20\n",
        "startNumber = 522\n",
        "\n",
        "for i in range(num_iterations):\n",
        "    # Extract 20 rows for the current iteration\n",
        "    start_index = i * 20\n",
        "    end_index = (i + 1) * 20\n",
        "    image_array = df_recon.iloc[start_index:end_index, :47].values.astype(np.uint8)\n",
        "\n",
        "    # Format the iteration number with leading zeros\n",
        "    file_number = str(startNumber + i).zfill(4)\n",
        "\n",
        "    # Plot and save the image\n",
        "    plt.figure(figsize=(5, 5))\n",
        "    plt.imshow(image_array, cmap='jet', aspect='auto')\n",
        "    plt.axis('off')\n",
        "    plt.savefig(f'/content/drive/My Drive/RTP_figs/final/Recon/Recon{file_number}.png')\n",
        "    plt.close()"
      ]
    }
  ],
  "metadata": {
    "colab": {
      "collapsed_sections": [
        "31B8WGW2VcSD",
        "r4h5-bXaVeSb",
        "ckx4gbsoVvhr",
        "oUEYa91DAHW5",
        "rlOE-owUAJI9",
        "5WieZnQ2VUHo",
        "ZxkQjOMvVivt",
        "Pa5nsBsMVlXo",
        "jBJz4BkGVoNO",
        "JZwmcOYtVxL0"
      ],
      "provenance": []
    },
    "kernelspec": {
      "display_name": "Python 3",
      "name": "python3"
    },
    "language_info": {
      "name": "python"
    }
  },
  "nbformat": 4,
  "nbformat_minor": 0
}
